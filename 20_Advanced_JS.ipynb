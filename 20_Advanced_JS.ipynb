{
  "nbformat": 4,
  "nbformat_minor": 0,
  "metadata": {
    "colab": {
      "provenance": []
    },
    "kernelspec": {
      "name": "python3",
      "display_name": "Python 3"
    },
    "language_info": {
      "name": "python"
    }
  },
  "cells": [
    {
      "cell_type": "markdown",
      "source": [
        "1.Create a Map in JavaScript and perform the following operations\n",
        " Add key-value pairs to the Map\n",
        " Check if a specific key exists\n",
        " Retrieve the value associated with a given key\n",
        " Iterate through all key-value pairs."
      ],
      "metadata": {
        "id": "HoHbD33ifaWy"
      }
    },
    {
      "cell_type": "code",
      "source": [
        "const fruits = new Map([\n",
        "  [\"apples\", 500],\n",
        "  [\"bananas\", 300],\n",
        "  [\"oranges\", 200],\n",
        "]);\n",
        "\n",
        "console.log(fruits); // Add key-value pairs to the Map\n",
        "\n",
        "console.log(fruits.has(\"apples\")); //Check if a specific key exists\n",
        "\n",
        "console.log(fruits.get(\"apples\")); //Retrieve the value associated with a given key\n",
        "\n",
        "for (const [key, value] of fruits) {\n",
        "  console.log(`${key}:${value}`);\n",
        "} // Iterate through all key-value pairs."
      ],
      "metadata": {
        "id": "DnLzrOq2fGYG"
      },
      "execution_count": null,
      "outputs": []
    },
    {
      "cell_type": "markdown",
      "source": [
        "\n",
        "2.Create a Map to store contact information (name, age, email, location) and implement a function to retrieve\n",
        "contact details by name.\n",
        "\n"
      ],
      "metadata": {
        "id": "QK50jUT2fXpj"
      }
    },
    {
      "cell_type": "code",
      "source": [
        "const contacts = new Map();\n",
        "\n",
        "contacts.set(\"Ashish\", {\n",
        "  age: 28,\n",
        "  email: \"ashish.chodankar@example.com\",\n",
        "  location: \"Pune\",\n",
        "});\n",
        "\n",
        "contacts.set(\"Rahul\", {\n",
        "  age: 32,\n",
        "  email: \"rahul.sharma@example.com\",\n",
        "  location: \"Mumbai\",\n",
        "});\n",
        "\n",
        "contacts.set(\"Priya\", {\n",
        "  age: 25,\n",
        "  email: \"priya.patel@example.com\",\n",
        "  location: \"Bangalore\",\n",
        "});\n",
        "\n",
        "contacts.set(\"Amit\", {\n",
        "  age: 30,\n",
        "  email: \"amit.singh@example.com\",\n",
        "  location: \"Delhi\",\n",
        "});\n",
        "\n",
        "contacts.set(\"Prerana\", {\n",
        "  age: 27,\n",
        "  email: \"prerana.gupta@example.com\",\n",
        "  location: \"Hyderabad\",\n",
        "});\n",
        "\n",
        "contacts.set(\"Vikram\", {\n",
        "  age: 35,\n",
        "  email: \"vikram.joshi@example.com\",\n",
        "  location: \"Chennai\",\n",
        "});\n",
        "\n",
        "function getDetailsbyName(name) {\n",
        "  if (contacts.has(name)) {\n",
        "    return contacts.get(name);\n",
        "  } else {\n",
        "    return \"No contact found!\";\n",
        "  }\n",
        "}\n",
        "\n",
        "console.log(\n",
        "  `Prerana's Details:${JSON.stringify(getDetailsbyName(\"Prerana\"), null, 2)}`\n",
        ");\n",
        "console.log(\n",
        "  `Ashish's Details:${JSON.stringify(getDetailsbyName(\"Ashish\"), null, 2)}`\n",
        ");\n",
        "\n",
        "console.log(`Non-existent Contact: ${getDetailsbyName(\"Unknown\")}`);"
      ],
      "metadata": {
        "id": "XWnOCD-KfljH"
      },
      "execution_count": null,
      "outputs": []
    },
    {
      "cell_type": "markdown",
      "source": [
        "3.You are given an array of numbers named myArray. Create a function that takes any number of arguments\n",
        "and adds them to the existing array. Use the spread and rest operator."
      ],
      "metadata": {
        "id": "0zGRyweGf2o-"
      }
    },
    {
      "cell_type": "code",
      "source": [
        "const myArray = [1, 2, 3, 4, 5];\n",
        "\n",
        "function addToArray(...newElements) {\n",
        "  myArray.push(...newElements);\n",
        "  return myArray;\n",
        "}\n",
        "console.log(addToArray(6, 7));\n",
        "console.log(addToArray(5, 6));\n",
        "console.log(addToArray(...[9, 10]));\n",
        "\n",
        "console.log(myArray);"
      ],
      "metadata": {
        "id": "Cl4Y3g95gHHu"
      },
      "execution_count": null,
      "outputs": []
    },
    {
      "cell_type": "markdown",
      "source": [
        "4.Create an object car with properties brand, model, and a method displayDetails that prints \"Brand: [brand],\n",
        "Model: [model]\". Test the method using this keyword.\n"
      ],
      "metadata": {
        "id": "dtuAl0vWgPsh"
      }
    },
    {
      "cell_type": "code",
      "source": [
        "const car = {\n",
        "  brand: \"Toyota\",\n",
        "  model: \"Fortuner\",\n",
        "  displayDetails() {\n",
        "    console.log(`Brand:${this.brand},Model:${this.model}`);\n",
        "  },\n",
        "};\n",
        "\n",
        "car.displayDetails();\n"
      ],
      "metadata": {
        "id": "ECVFPan5glBl"
      },
      "execution_count": null,
      "outputs": []
    },
    {
      "cell_type": "markdown",
      "source": [
        "5.Create two objects person1 and person2 with properties name and age. Create a function “introduce” that\n",
        "prints \"Hello, I'm [name], and I'm [age] years old.\" Use the call method to make person2 introduce itself\n",
        "using the introduce function."
      ],
      "metadata": {
        "id": "cvEnEMwFiT5G"
      }
    },
    {
      "cell_type": "code",
      "source": [
        "const person1 = {\n",
        "  name: \"Ashish\",\n",
        "  age: 30,\n",
        "};\n",
        "\n",
        "const person2 = {\n",
        "  name: \"Chetan\",\n",
        "  age: 36,\n",
        "};\n",
        "\n",
        "function introduce() {\n",
        "  console.log(`Hello,I'm ${this.name},and I'm ${this.age} years old.`);\n",
        "}\n",
        "\n",
        "introduce.call(person2);\n"
      ],
      "metadata": {
        "id": "pnNUCdhQiVcg"
      },
      "execution_count": null,
      "outputs": []
    }
  ]
}